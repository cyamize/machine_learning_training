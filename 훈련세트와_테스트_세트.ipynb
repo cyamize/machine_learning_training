{
  "nbformat": 4,
  "nbformat_minor": 0,
  "metadata": {
    "colab": {
      "name": "훈련세트와 테스트 세트",
      "provenance": [],
      "collapsed_sections": [],
      "include_colab_link": true
    },
    "kernelspec": {
      "display_name": "TensorFlow 2.3 on Python 3.6 (CUDA 10.1)",
      "language": "python",
      "name": "python3"
    },
    "language_info": {
      "codemirror_mode": {
        "name": "ipython",
        "version": 3
      },
      "file_extension": ".py",
      "mimetype": "text/x-python",
      "name": "python",
      "nbconvert_exporter": "python",
      "pygments_lexer": "ipython3",
      "version": "3.6.9"
    }
  },
  "cells": [
    {
      "cell_type": "markdown",
      "metadata": {
        "id": "view-in-github",
        "colab_type": "text"
      },
      "source": [
        "<a href=\"https://colab.research.google.com/github/cyamize/machine_learning_training/blob/main/%ED%9B%88%EB%A0%A8%EC%84%B8%ED%8A%B8%EC%99%80_%ED%85%8C%EC%8A%A4%ED%8A%B8_%EC%84%B8%ED%8A%B8.ipynb\" target=\"_parent\"><img src=\"https://colab.research.google.com/assets/colab-badge.svg\" alt=\"Open In Colab\"/></a>"
      ]
    },
    {
      "cell_type": "markdown",
      "metadata": {
        "id": "hVGIVyYz7XNy"
      },
      "source": [
        "## 훈련 세트와 테스트 세트"
      ]
    },
    {
      "cell_type": "code",
      "metadata": {
        "id": "N1oAXHg2Y6DJ"
      },
      "source": [
        "fish_length = [25.4, 26.3, 26.5, 29.0, 29.0, 29.7, 29.7, 30.0, 30.0, 30.7, 31.0, 31.0, \n",
        "                31.5, 32.0, 32.0, 32.0, 33.0, 33.0, 33.5, 33.5, 34.0, 34.0, 34.5, 35.0, \n",
        "                35.0, 35.0, 35.0, 36.0, 36.0, 37.0, 38.5, 38.5, 39.5, 41.0, 41.0, 9.8, \n",
        "                10.5, 10.6, 11.0, 11.2, 11.3, 11.8, 11.8, 12.0, 12.2, 12.4, 13.0, 14.3, 15.0]\n",
        "fish_weight = [242.0, 290.0, 340.0, 363.0, 430.0, 450.0, 500.0, 390.0, 450.0, 500.0, 475.0, 500.0, \n",
        "                500.0, 340.0, 600.0, 600.0, 700.0, 700.0, 610.0, 650.0, 575.0, 685.0, 620.0, 680.0, \n",
        "                700.0, 725.0, 720.0, 714.0, 850.0, 1000.0, 920.0, 955.0, 925.0, 975.0, 950.0, 6.7, \n",
        "                7.5, 7.0, 9.7, 9.8, 8.7, 10.0, 9.9, 9.8, 12.2, 13.4, 12.2, 19.7, 19.9]"
      ],
      "execution_count": 1,
      "outputs": []
    },
    {
      "cell_type": "code",
      "metadata": {
        "id": "4mQxk1Vx7dL5"
      },
      "source": [
        "fish_data = [[l, w] for l, w in zip(fish_length, fish_weight)]\n",
        "fish_target = [1]*35 + [0]*14"
      ],
      "execution_count": 3,
      "outputs": []
    },
    {
      "cell_type": "markdown",
      "metadata": {
        "id": "4pmDOxhX_c2Q"
      },
      "source": [
        "이 때 하나의 생선 데이터를 샘플이라고 부른다. 도미와 빙어가 각각 35마리, 14마리가 있으므로 전체 데이터는 49개의 샘플이 있다. 사용하는 특성은 길이와 무게 2개. 이 데이터의 처음 35개를 훈련 세트로, 나머지 14개를 테스트 세트로 사용한다."
      ]
    },
    {
      "cell_type": "code",
      "metadata": {
        "id": "URr_0wBTYsZV"
      },
      "source": [
        "from sklearn.neighbors import KNeighborsClassifier\n",
        "\n",
        "kn = KNeighborsClassifier()"
      ],
      "execution_count": 4,
      "outputs": []
    },
    {
      "cell_type": "code",
      "metadata": {
        "colab": {
          "base_uri": "https://localhost:8080/"
        },
        "id": "H74k3aZQ9hnr",
        "outputId": "86a36df6-8f89-4efe-c592-61c16a5dc21a"
      },
      "source": [
        "print(fish_data[4])"
      ],
      "execution_count": 5,
      "outputs": [
        {
          "output_type": "stream",
          "text": [
            "[29.0, 430.0]\n"
          ],
          "name": "stdout"
        }
      ]
    },
    {
      "cell_type": "markdown",
      "metadata": {
        "id": "uzLDCaBT_bVQ"
      },
      "source": [
        "일반적인 리스트처럼 배열의 요소를 선택하여 인덱스를 지정할 수 있다. fish_data의 다섯번째 샘플을 출력한경우가 위와 같다."
      ]
    },
    {
      "cell_type": "code",
      "metadata": {
        "colab": {
          "base_uri": "https://localhost:8080/"
        },
        "id": "6tYXuRGA_4mk",
        "outputId": "31b759f7-a600-42a5-f34e-49e45b3a2db9"
      },
      "source": [
        "print(fish_data[0:5])"
      ],
      "execution_count": 6,
      "outputs": [
        {
          "output_type": "stream",
          "text": [
            "[[25.4, 242.0], [26.3, 290.0], [26.5, 340.0], [29.0, 363.0], [29.0, 430.0]]\n"
          ],
          "name": "stdout"
        }
      ]
    },
    {
      "cell_type": "markdown",
      "metadata": {
        "id": "mcInclV0JEJC"
      },
      "source": [
        "첫번째부터 다섯번 째까지의 샘플을 선택한 경우"
      ]
    },
    {
      "cell_type": "code",
      "metadata": {
        "colab": {
          "base_uri": "https://localhost:8080/"
        },
        "id": "IFesPu-oB41B",
        "outputId": "f6a6f6e2-e67c-4c40-db24-49d3dcd136ee"
      },
      "source": [
        "print(fish_data[:5])"
      ],
      "execution_count": 7,
      "outputs": [
        {
          "output_type": "stream",
          "text": [
            "[[25.4, 242.0], [26.3, 290.0], [26.5, 340.0], [29.0, 363.0], [29.0, 430.0]]\n"
          ],
          "name": "stdout"
        }
      ]
    },
    {
      "cell_type": "markdown",
      "metadata": {
        "id": "PWMHYh__Tt4W"
      },
      "source": [
        "비슷하게 0을 넣지 않고 생략해도 가능하다"
      ]
    },
    {
      "cell_type": "code",
      "metadata": {
        "colab": {
          "base_uri": "https://localhost:8080/"
        },
        "id": "GSbt5e9ICUKc",
        "outputId": "5f714188-cc2d-45d8-a929-46e64de930e1"
      },
      "source": [
        "print(fish_data[44:])"
      ],
      "execution_count": 10,
      "outputs": [
        {
          "output_type": "stream",
          "text": [
            "[[12.2, 12.2], [12.4, 13.4], [13.0, 12.2], [14.3, 19.7], [15.0, 19.9]]\n"
          ],
          "name": "stdout"
        }
      ]
    },
    {
      "cell_type": "markdown",
      "metadata": {
        "id": "s62m0-aLTrNP"
      },
      "source": [
        "예를 들어 마지막에서 5개의 샘플을 추출할 때는 '44:49'와 같이 쓰지 않고 '44:'만 써도 된다."
      ]
    },
    {
      "cell_type": "code",
      "metadata": {
        "id": "MqSRWFtpDESU"
      },
      "source": [
        "train_input = fish_data[:35]\n",
        "# 훈련 세트로 0부터 34번째 인덱스 사용\n",
        "train_target = fish_target[:35]\n",
        "# 훈련세트로 타깃값중 0부터 34번째 인덱스까지 사용\n",
        "\n",
        "test_input = fish_data[35:]\n",
        "# 테스트 세트로 입력값중 35번째부터 마지막 인덱스 까지 사용\n",
        "test_target = fish_target[35:]\n",
        "# 테스트 세트로 타깃값중 35번째부터 마지막 인덱스까지 사용"
      ],
      "execution_count": 9,
      "outputs": []
    },
    {
      "cell_type": "code",
      "metadata": {
        "colab": {
          "base_uri": "https://localhost:8080/"
        },
        "id": "FxiunutA8yMQ",
        "outputId": "30b80270-41e6-497c-aaeb-f5adbdbf7c67"
      },
      "source": [
        "kn = kn.fit(train_input, train_target)\n",
        "kn.score(test_input, test_target)"
      ],
      "execution_count": 11,
      "outputs": [
        {
          "output_type": "execute_result",
          "data": {
            "text/plain": [
              "0.0"
            ]
          },
          "metadata": {
            "tags": []
          },
          "execution_count": 11
        }
      ]
    },
    {
      "cell_type": "markdown",
      "metadata": {
        "id": "WQHIPsCuXgmO"
      },
      "source": [
        "훈련결과 정확도가 0으로 나왔다"
      ]
    },
    {
      "cell_type": "markdown",
      "metadata": {
        "id": "S961WhVgZmeW"
      },
      "source": [
        "이는 훈련세트와 테스트세트를 나눌때 둘이 적절이 섞여있어야 하나 섞여있지 않기 때문에 일어났다"
      ]
    },
    {
      "cell_type": "markdown",
      "metadata": {
        "id": "-tTKaxLe7XN6"
      },
      "source": [
        "## 넘파이"
      ]
    },
    {
      "cell_type": "code",
      "metadata": {
        "id": "kdoec4RBcrZU"
      },
      "source": [
        "import numpy as np"
      ],
      "execution_count": 12,
      "outputs": []
    },
    {
      "cell_type": "code",
      "metadata": {
        "id": "j_NMsjZweD3b"
      },
      "source": [
        "input_arr = np.array(fish_data)\n",
        "target_arr = np.array(fish_target)"
      ],
      "execution_count": 13,
      "outputs": []
    },
    {
      "cell_type": "markdown",
      "metadata": {
        "id": "KwhBTvlcZv3e"
      },
      "source": [
        "파이썬 리스트를 넘파이 배열로 바꾸었다"
      ]
    },
    {
      "cell_type": "code",
      "metadata": {
        "colab": {
          "base_uri": "https://localhost:8080/"
        },
        "id": "H8t38rejifbv",
        "outputId": "d2c1f68b-f35b-400d-b540-1513a0cc12fa"
      },
      "source": [
        "print(input_arr)"
      ],
      "execution_count": 14,
      "outputs": [
        {
          "output_type": "stream",
          "text": [
            "[[  25.4  242. ]\n",
            " [  26.3  290. ]\n",
            " [  26.5  340. ]\n",
            " [  29.   363. ]\n",
            " [  29.   430. ]\n",
            " [  29.7  450. ]\n",
            " [  29.7  500. ]\n",
            " [  30.   390. ]\n",
            " [  30.   450. ]\n",
            " [  30.7  500. ]\n",
            " [  31.   475. ]\n",
            " [  31.   500. ]\n",
            " [  31.5  500. ]\n",
            " [  32.   340. ]\n",
            " [  32.   600. ]\n",
            " [  32.   600. ]\n",
            " [  33.   700. ]\n",
            " [  33.   700. ]\n",
            " [  33.5  610. ]\n",
            " [  33.5  650. ]\n",
            " [  34.   575. ]\n",
            " [  34.   685. ]\n",
            " [  34.5  620. ]\n",
            " [  35.   680. ]\n",
            " [  35.   700. ]\n",
            " [  35.   725. ]\n",
            " [  35.   720. ]\n",
            " [  36.   714. ]\n",
            " [  36.   850. ]\n",
            " [  37.  1000. ]\n",
            " [  38.5  920. ]\n",
            " [  38.5  955. ]\n",
            " [  39.5  925. ]\n",
            " [  41.   975. ]\n",
            " [  41.   950. ]\n",
            " [   9.8    6.7]\n",
            " [  10.5    7.5]\n",
            " [  10.6    7. ]\n",
            " [  11.     9.7]\n",
            " [  11.2    9.8]\n",
            " [  11.3    8.7]\n",
            " [  11.8   10. ]\n",
            " [  11.8    9.9]\n",
            " [  12.     9.8]\n",
            " [  12.2   12.2]\n",
            " [  12.4   13.4]\n",
            " [  13.    12.2]\n",
            " [  14.3   19.7]\n",
            " [  15.    19.9]]\n"
          ],
          "name": "stdout"
        }
      ]
    },
    {
      "cell_type": "markdown",
      "metadata": {
        "id": "k3gRQut1Z2z1"
      },
      "source": [
        "출력결과에서 49개의 행과 2개의 열을 확인할 수 있다."
      ]
    },
    {
      "cell_type": "code",
      "metadata": {
        "colab": {
          "base_uri": "https://localhost:8080/"
        },
        "id": "cPMqX_1qluYe",
        "outputId": "626d75ae-6bf6-437d-d045-596e6908d0c2"
      },
      "source": [
        "print(input_arr.shape)"
      ],
      "execution_count": 15,
      "outputs": [
        {
          "output_type": "stream",
          "text": [
            "(49, 2)\n"
          ],
          "name": "stdout"
        }
      ]
    },
    {
      "cell_type": "markdown",
      "metadata": {
        "id": "eBjuum1JZ77N"
      },
      "source": [
        "배열 객체의 크기를 shape속성으로 알려준다."
      ]
    },
    {
      "cell_type": "code",
      "metadata": {
        "id": "8ZKi6avTeKaB"
      },
      "source": [
        "np.random.seed(42)\n",
        "index = np.arange(49)\n",
        "np.random.shuffle(index)"
      ],
      "execution_count": 16,
      "outputs": []
    },
    {
      "cell_type": "markdown",
      "metadata": {
        "id": "TdmjkG1ebg4u"
      },
      "source": [
        "넘파이 arrange()함수를 사용하여 0부터 48까지 1씩 증가하는 인덱스를 간단히 만들 수 있다. 그다음 그 인덱스를 랜덤하게 섞는다. 넘파이 random() 패키지 아래 shuffle() 함수는 주어진 배열을 무작위로 섞는다."
      ]
    },
    {
      "cell_type": "code",
      "metadata": {
        "colab": {
          "base_uri": "https://localhost:8080/"
        },
        "id": "Ndz46Y7aoS9h",
        "outputId": "5cb07fbf-1669-4c15-b0fc-7de9812595f9"
      },
      "source": [
        "print(index)"
      ],
      "execution_count": 17,
      "outputs": [
        {
          "output_type": "stream",
          "text": [
            "[13 45 47 44 17 27 26 25 31 19 12  4 34  8  3  6 40 41 46 15  9 16 24 33\n",
            " 30  0 43 32  5 29 11 36  1 21  2 37 35 23 39 10 22 18 48 20  7 42 14 28\n",
            " 38]\n"
          ],
          "name": "stdout"
        }
      ]
    },
    {
      "cell_type": "markdown",
      "metadata": {
        "id": "FBnIv1_tb1jG"
      },
      "source": [
        "랜덤하게 정수가 섞였다."
      ]
    },
    {
      "cell_type": "code",
      "metadata": {
        "colab": {
          "base_uri": "https://localhost:8080/"
        },
        "id": "m_OYZlI1yicM",
        "outputId": "84a03bc1-4673-4b38-b3fa-5ac7dd91b92c"
      },
      "source": [
        "print(input_arr[[1,3]])"
      ],
      "execution_count": 18,
      "outputs": [
        {
          "output_type": "stream",
          "text": [
            "[[ 26.3 290. ]\n",
            " [ 29.  363. ]]\n"
          ],
          "name": "stdout"
        }
      ]
    },
    {
      "cell_type": "markdown",
      "metadata": {
        "id": "hUMMgf__b6Mt"
      },
      "source": [
        "넘파이는 배열 인덱싱 기능을 제공한다. 배열 인덱싱은 1개의 인덱스가 아닌 여러 개의 인덱스로 한 번에 여러 개의 원소를 선택할 수 있다. 위처럼 input_arr에서 두 번째와 네 번째 샘플을 선택하여 출력 가능하다"
      ]
    },
    {
      "cell_type": "code",
      "metadata": {
        "id": "o_MTsZW3eg96"
      },
      "source": [
        "train_input = input_arr[index[:35]]\n",
        "train_target = target_arr[index[:35]]"
      ],
      "execution_count": 19,
      "outputs": []
    },
    {
      "cell_type": "markdown",
      "metadata": {
        "id": "2RncL9dKcfB-"
      },
      "source": [
        "앞서 만든 index 배열의 처음 35개를 input_arr와 target_arr에 전달하여 랜덤하게 35개의 샘플을 훈련 세트로 만들었다."
      ]
    },
    {
      "cell_type": "code",
      "metadata": {
        "colab": {
          "base_uri": "https://localhost:8080/"
        },
        "id": "hmO5KDSlBhtt",
        "outputId": "5fd65dd9-5459-4912-c98d-6f709443a657"
      },
      "source": [
        "print(input_arr[13], train_input[0])"
      ],
      "execution_count": 20,
      "outputs": [
        {
          "output_type": "stream",
          "text": [
            "[ 32. 340.] [ 32. 340.]\n"
          ],
          "name": "stdout"
        }
      ]
    },
    {
      "cell_type": "markdown",
      "metadata": {
        "id": "gkdecKbTco_t"
      },
      "source": [
        "만들어진 index의 첫번째 값은 위에서 보듯이 13이다. 따라서 train_input의 첫 번째 원소는 input_arr의 14번째 원소가 들어 있을 것이다."
      ]
    },
    {
      "cell_type": "code",
      "metadata": {
        "id": "NUNTa8G9gqw2"
      },
      "source": [
        "test_input = input_arr[index[35:]]\n",
        "test_target = target_arr[index[35:]]"
      ],
      "execution_count": 21,
      "outputs": []
    },
    {
      "cell_type": "code",
      "metadata": {
        "colab": {
          "base_uri": "https://localhost:8080/",
          "height": 279
        },
        "id": "gbnl1bpoiR0x",
        "outputId": "86fb75cb-6b4a-4d7d-8f72-902ec3107e11"
      },
      "source": [
        "import matplotlib.pyplot as plt\n",
        "\n",
        "plt.scatter(train_input[:, 0], train_input[:, 1])\n",
        "plt.scatter(test_input[:, 0], test_input[:, 1])\n",
        "plt.xlabel('length')\n",
        "plt.ylabel('weight')\n",
        "plt.show()"
      ],
      "execution_count": 22,
      "outputs": [
        {
          "output_type": "display_data",
          "data": {
            "image/png": "[encoded data removed]",
            "text/plain": [
              "<Figure size 432x288 with 1 Axes>"
            ]
          },
          "metadata": {
            "tags": [],
            "needs_background": "light"
          }
        }
      ]
    },
    {
      "cell_type": "markdown",
      "metadata": {
        "id": "TQ0HOKSefPdW"
      },
      "source": [
        "훈련 세트와 테스트 세트에 도미와 빙어가 잘 섞인것을 볼 수 있다."
      ]
    },
    {
      "cell_type": "markdown",
      "metadata": {
        "id": "pHHO1-P17XN-"
      },
      "source": [
        "## 두 번째 머신러닝 프로그램"
      ]
    },
    {
      "cell_type": "code",
      "metadata": {
        "id": "RpiXncTRfY7i"
      },
      "source": [
        "kn = kn.fit(train_input, train_target)"
      ],
      "execution_count": 23,
      "outputs": []
    },
    {
      "cell_type": "markdown",
      "metadata": {
        "id": "e3Ho_PWgfW1l"
      },
      "source": [
        "앞서 만든 훈련 세트와 테스트 세트로 k-최근접 이웃 모델을 훈련시켰다. fit()매서드를 진행할 때마다 KNeighborsClassifier 클래스 객체는 이전에 학습한 모든 것을 잃어 버린다. 이전 모델을 그대로 두고 싶다면 KNeighborsClassifier클래스 객체를 새로 만들어야 한다. 여기서는 이전에 만든 kn객체를 그대로 사용하였다."
      ]
    },
    {
      "cell_type": "code",
      "metadata": {
        "colab": {
          "base_uri": "https://localhost:8080/"
        },
        "id": "Stdtp3RvhImd",
        "outputId": "243563f1-621e-46a0-97f4-986c8f2e0bd6"
      },
      "source": [
        "kn.score(test_input, test_target)"
      ],
      "execution_count": 24,
      "outputs": [
        {
          "output_type": "execute_result",
          "data": {
            "text/plain": [
              "1.0"
            ]
          },
          "metadata": {
            "tags": []
          },
          "execution_count": 24
        }
      ]
    },
    {
      "cell_type": "markdown",
      "metadata": {
        "id": "VriCGnVbf7Su"
      },
      "source": [
        "100% 정확도로 테스트 세트에 있는 모든 생선을 맞췄다."
      ]
    },
    {
      "cell_type": "code",
      "metadata": {
        "colab": {
          "base_uri": "https://localhost:8080/"
        },
        "id": "Od3gLmcJihAe",
        "outputId": "7068250a-f90a-4b5b-ddc0-3e3ad99f3975"
      },
      "source": [
        "kn.predict(test_input)"
      ],
      "execution_count": 25,
      "outputs": [
        {
          "output_type": "execute_result",
          "data": {
            "text/plain": [
              "array([0, 0, 1, 0, 1, 1, 1, 0, 1, 1, 0, 1, 1, 0])"
            ]
          },
          "metadata": {
            "tags": []
          },
          "execution_count": 25
        }
      ]
    },
    {
      "cell_type": "code",
      "metadata": {
        "colab": {
          "base_uri": "https://localhost:8080/"
        },
        "id": "Z-iCt9zHilaa",
        "outputId": "ab81093f-8a8f-43da-c2c3-ae144b98209b"
      },
      "source": [
        "test_target"
      ],
      "execution_count": 26,
      "outputs": [
        {
          "output_type": "execute_result",
          "data": {
            "text/plain": [
              "array([0, 0, 1, 0, 1, 1, 1, 0, 1, 1, 0, 1, 1, 0])"
            ]
          },
          "metadata": {
            "tags": []
          },
          "execution_count": 26
        }
      ]
    },
    {
      "cell_type": "markdown",
      "metadata": {
        "id": "THseRZ4egGEn"
      },
      "source": [
        "predict()매서드로 테스트 세트의 예측 결과와 실제 타깃을 확인해 보았다.테스트 세트에 대한 예측 결과가 정답과 일치 한 것을 볼 수 있다."
      ]
    },
    {
      "cell_type": "code",
      "metadata": {
        "id": "C2JKMvrfgUQv"
      },
      "source": [
        ""
      ],
      "execution_count": null,
      "outputs": []
    }
  ]
}